{
 "cells": [
  {
   "cell_type": "code",
   "execution_count": 92,
   "id": "a78fba7d",
   "metadata": {},
   "outputs": [],
   "source": [
    "import pandas as pd\n",
    "from shapely.geometry import Point # Shapely for converting latitude/longtitude to geometry\n",
    "import geopandas as gpd # To create GeodataFrame\n",
    "import seaborn as sns\n",
    "import matplotlib.pyplot as plt\n",
    "import numpy as np\n",
    "import warnings\n",
    "warnings.filterwarnings('ignore')"
   ]
  },
  {
   "cell_type": "code",
   "execution_count": 102,
   "id": "38a1275b",
   "metadata": {},
   "outputs": [],
   "source": [
    "original_df = pd.read_csv('/Users/wudailing/Desktop/US Ignite/trips.csv')\n",
    "header_df = pd.read_csv('/Users/wudailing/Desktop/US Ignite/TripBulkReportTripsHeaders.csv')\n",
    "trips_df = pd.concat([original_df,header_df])"
   ]
  },
  {
   "cell_type": "code",
   "execution_count": 103,
   "id": "505e3f40",
   "metadata": {},
   "outputs": [
    {
     "data": {
      "text/html": [
       "<div>\n",
       "<style scoped>\n",
       "    .dataframe tbody tr th:only-of-type {\n",
       "        vertical-align: middle;\n",
       "    }\n",
       "\n",
       "    .dataframe tbody tr th {\n",
       "        vertical-align: top;\n",
       "    }\n",
       "\n",
       "    .dataframe thead th {\n",
       "        text-align: right;\n",
       "    }\n",
       "</style>\n",
       "<table border=\"1\" class=\"dataframe\">\n",
       "  <thead>\n",
       "    <tr style=\"text-align: right;\">\n",
       "      <th></th>\n",
       "      <th>TripId</th>\n",
       "      <th>DeviceId</th>\n",
       "      <th>ProviderId</th>\n",
       "      <th>Mode</th>\n",
       "      <th>StartDate</th>\n",
       "      <th>StartWDay</th>\n",
       "      <th>EndDate</th>\n",
       "      <th>EndWDay</th>\n",
       "      <th>StartLocLat</th>\n",
       "      <th>StartLocLon</th>\n",
       "      <th>...</th>\n",
       "      <th>MovementType</th>\n",
       "      <th>OriginCbg</th>\n",
       "      <th>DestCbg</th>\n",
       "      <th>StartTimezone</th>\n",
       "      <th>EndTimezone</th>\n",
       "      <th>WaypointFreqSec</th>\n",
       "      <th>StartQk</th>\n",
       "      <th>EndQk</th>\n",
       "      <th>Unnamed: 31</th>\n",
       "      <th>Unnamed: 32</th>\n",
       "    </tr>\n",
       "  </thead>\n",
       "  <tbody>\n",
       "    <tr>\n",
       "      <th>0</th>\n",
       "      <td>a939d5d8c9b52b5265161bfa93054f0a</td>\n",
       "      <td>0006da8402c807c4be339cab03f9d498</td>\n",
       "      <td>d07e70efcfab08731a97e7b91be644de</td>\n",
       "      <td>1</td>\n",
       "      <td>2022-05-11T20:19:31.000Z</td>\n",
       "      <td>3</td>\n",
       "      <td>2022-05-11T20:22:52.000Z</td>\n",
       "      <td>3</td>\n",
       "      <td>30.18252</td>\n",
       "      <td>-96.93443</td>\n",
       "      <td>...</td>\n",
       "      <td>1</td>\n",
       "      <td>NaN</td>\n",
       "      <td>NaN</td>\n",
       "      <td>America/Chicago</td>\n",
       "      <td>America/Chicago</td>\n",
       "      <td>NaN</td>\n",
       "      <td>23130100000000000.0</td>\n",
       "      <td>23130100000000000.0</td>\n",
       "      <td>NaN</td>\n",
       "      <td>NaN</td>\n",
       "    </tr>\n",
       "    <tr>\n",
       "      <th>1</th>\n",
       "      <td>88180c2feb14c8520f169e4bda526313</td>\n",
       "      <td>009ef4b15eadd773468cd2bfdff6eb54</td>\n",
       "      <td>74071a673307ca7459bcf75fbd024e09</td>\n",
       "      <td>1</td>\n",
       "      <td>2022-05-14T21:07:54.000Z</td>\n",
       "      <td>6</td>\n",
       "      <td>2022-05-14T21:58:03.000Z</td>\n",
       "      <td>6</td>\n",
       "      <td>38.27969</td>\n",
       "      <td>-104.52873</td>\n",
       "      <td>...</td>\n",
       "      <td>1</td>\n",
       "      <td>NaN</td>\n",
       "      <td>NaN</td>\n",
       "      <td>America/Denver</td>\n",
       "      <td>America/Denver</td>\n",
       "      <td>NaN</td>\n",
       "      <td>23101200000000000.0</td>\n",
       "      <td>23101200000000000.0</td>\n",
       "      <td>{\\method\\\":\\\"fused\\\"</td>\n",
       "      <td>\\\"aid_type\\\":\\\"AAID\\\"}\"</td>\n",
       "    </tr>\n",
       "    <tr>\n",
       "      <th>2</th>\n",
       "      <td>a4d0936eb3b45ff1a5af8885939fbcd5</td>\n",
       "      <td>011dbfd3e177545535328ba48377522f</td>\n",
       "      <td>74071a673307ca7459bcf75fbd024e09</td>\n",
       "      <td>0</td>\n",
       "      <td>2022-05-13T21:40:44.000Z</td>\n",
       "      <td>5</td>\n",
       "      <td>2022-05-13T21:48:42.000Z</td>\n",
       "      <td>5</td>\n",
       "      <td>38.75461</td>\n",
       "      <td>-104.78828</td>\n",
       "      <td>...</td>\n",
       "      <td>1</td>\n",
       "      <td>NaN</td>\n",
       "      <td>NaN</td>\n",
       "      <td>America/Denver</td>\n",
       "      <td>America/Denver</td>\n",
       "      <td>NaN</td>\n",
       "      <td>23101200000000000.0</td>\n",
       "      <td>23101200000000000.0</td>\n",
       "      <td>{\\method\\\":\\\"fused\\\"</td>\n",
       "      <td>\\\"aid_type\\\":\\\"AAID\\\"}\"</td>\n",
       "    </tr>\n",
       "    <tr>\n",
       "      <th>3</th>\n",
       "      <td>a04c70dd5a17f8f54b7a5576951da0c5</td>\n",
       "      <td>014b33b72b76a3ba8cbb621009408974</td>\n",
       "      <td>d07e70efcfab08731a97e7b91be644de</td>\n",
       "      <td>1</td>\n",
       "      <td>2022-05-11T23:37:31.000Z</td>\n",
       "      <td>3</td>\n",
       "      <td>2022-05-11T23:47:49.000Z</td>\n",
       "      <td>3</td>\n",
       "      <td>38.67639</td>\n",
       "      <td>-104.70588</td>\n",
       "      <td>...</td>\n",
       "      <td>1</td>\n",
       "      <td>NaN</td>\n",
       "      <td>NaN</td>\n",
       "      <td>America/Denver</td>\n",
       "      <td>America/Denver</td>\n",
       "      <td>NaN</td>\n",
       "      <td>23101200000000000.0</td>\n",
       "      <td>23101200000000000.0</td>\n",
       "      <td>NaN</td>\n",
       "      <td>NaN</td>\n",
       "    </tr>\n",
       "    <tr>\n",
       "      <th>4</th>\n",
       "      <td>509bba65db0e6495bb35e615f823350c</td>\n",
       "      <td>014ed4fc9ea19b744e0eb3a0b1d72bb1</td>\n",
       "      <td>74071a673307ca7459bcf75fbd024e09</td>\n",
       "      <td>1</td>\n",
       "      <td>2022-05-12T00:14:40.000Z</td>\n",
       "      <td>3</td>\n",
       "      <td>2022-05-12T00:37:38.000Z</td>\n",
       "      <td>3</td>\n",
       "      <td>38.55622</td>\n",
       "      <td>-104.64958</td>\n",
       "      <td>...</td>\n",
       "      <td>1</td>\n",
       "      <td>NaN</td>\n",
       "      <td>NaN</td>\n",
       "      <td>America/Denver</td>\n",
       "      <td>America/Denver</td>\n",
       "      <td>NaN</td>\n",
       "      <td>23101200000000000.0</td>\n",
       "      <td>23101200000000000.0</td>\n",
       "      <td>{\\method\\\":\\\"gps\\\"</td>\n",
       "      <td>\\\"aid_type\\\":\\\"IDFA\\\"}\"</td>\n",
       "    </tr>\n",
       "  </tbody>\n",
       "</table>\n",
       "<p>5 rows × 33 columns</p>\n",
       "</div>"
      ],
      "text/plain": [
       "                             TripId                          DeviceId  \\\n",
       "0  a939d5d8c9b52b5265161bfa93054f0a  0006da8402c807c4be339cab03f9d498   \n",
       "1  88180c2feb14c8520f169e4bda526313  009ef4b15eadd773468cd2bfdff6eb54   \n",
       "2  a4d0936eb3b45ff1a5af8885939fbcd5  011dbfd3e177545535328ba48377522f   \n",
       "3  a04c70dd5a17f8f54b7a5576951da0c5  014b33b72b76a3ba8cbb621009408974   \n",
       "4  509bba65db0e6495bb35e615f823350c  014ed4fc9ea19b744e0eb3a0b1d72bb1   \n",
       "\n",
       "                         ProviderId Mode                 StartDate StartWDay  \\\n",
       "0  d07e70efcfab08731a97e7b91be644de    1  2022-05-11T20:19:31.000Z         3   \n",
       "1  74071a673307ca7459bcf75fbd024e09    1  2022-05-14T21:07:54.000Z         6   \n",
       "2  74071a673307ca7459bcf75fbd024e09    0  2022-05-13T21:40:44.000Z         5   \n",
       "3  d07e70efcfab08731a97e7b91be644de    1  2022-05-11T23:37:31.000Z         3   \n",
       "4  74071a673307ca7459bcf75fbd024e09    1  2022-05-12T00:14:40.000Z         3   \n",
       "\n",
       "                    EndDate EndWDay StartLocLat StartLocLon  ... MovementType  \\\n",
       "0  2022-05-11T20:22:52.000Z       3    30.18252   -96.93443  ...            1   \n",
       "1  2022-05-14T21:58:03.000Z       6    38.27969  -104.52873  ...            1   \n",
       "2  2022-05-13T21:48:42.000Z       5    38.75461  -104.78828  ...            1   \n",
       "3  2022-05-11T23:47:49.000Z       3    38.67639  -104.70588  ...            1   \n",
       "4  2022-05-12T00:37:38.000Z       3    38.55622  -104.64958  ...            1   \n",
       "\n",
       "  OriginCbg DestCbg    StartTimezone      EndTimezone WaypointFreqSec  \\\n",
       "0       NaN     NaN  America/Chicago  America/Chicago             NaN   \n",
       "1       NaN     NaN   America/Denver   America/Denver             NaN   \n",
       "2       NaN     NaN   America/Denver   America/Denver             NaN   \n",
       "3       NaN     NaN   America/Denver   America/Denver             NaN   \n",
       "4       NaN     NaN   America/Denver   America/Denver             NaN   \n",
       "\n",
       "               StartQk                EndQk           Unnamed: 31  \\\n",
       "0  23130100000000000.0  23130100000000000.0                   NaN   \n",
       "1  23101200000000000.0  23101200000000000.0  {\\method\\\":\\\"fused\\\"   \n",
       "2  23101200000000000.0  23101200000000000.0  {\\method\\\":\\\"fused\\\"   \n",
       "3  23101200000000000.0  23101200000000000.0                   NaN   \n",
       "4  23101200000000000.0  23101200000000000.0    {\\method\\\":\\\"gps\\\"   \n",
       "\n",
       "               Unnamed: 32  \n",
       "0                      NaN  \n",
       "1  \\\"aid_type\\\":\\\"AAID\\\"}\"  \n",
       "2  \\\"aid_type\\\":\\\"AAID\\\"}\"  \n",
       "3                      NaN  \n",
       "4  \\\"aid_type\\\":\\\"IDFA\\\"}\"  \n",
       "\n",
       "[5 rows x 33 columns]"
      ]
     },
     "execution_count": 103,
     "metadata": {},
     "output_type": "execute_result"
    }
   ],
   "source": [
    "trips_df.head()"
   ]
  },
  {
   "cell_type": "code",
   "execution_count": 4,
   "id": "4fff555e",
   "metadata": {},
   "outputs": [
    {
     "data": {
      "text/plain": [
       "Index(['TripId', 'DeviceId', 'ProviderId', 'Mode', 'StartDate', 'StartWDay',\n",
       "       'EndDate', 'EndWDay', 'StartLocLat', 'StartLocLon', 'EndLocLat',\n",
       "       'EndLocLon', 'GeospatialType', 'ProviderType', 'ProviderDrivingProfile',\n",
       "       'VehicleWeightClass', 'ProbeSourceType', 'OriginZoneName',\n",
       "       'DestinationZoneName', 'EndpointType', 'TripMeanSpeedKph',\n",
       "       'TripMaxSpeedKph', 'TripDistanceMeters', 'MovementType', 'OriginCbg',\n",
       "       'DestCbg', 'StartTimezone', 'EndTimezone', 'WaypointFreqSec', 'StartQk',\n",
       "       'EndQk', 'Unnamed: 31', 'Unnamed: 32'],\n",
       "      dtype='object')"
      ]
     },
     "execution_count": 4,
     "metadata": {},
     "output_type": "execute_result"
    }
   ],
   "source": [
    "trips_df.columns"
   ]
  },
  {
   "cell_type": "code",
   "execution_count": 94,
   "id": "aa199305",
   "metadata": {},
   "outputs": [
    {
     "name": "stdout",
     "output_type": "stream",
     "text": [
      "Number of rows in original data: 136880\n",
      "Number of duplicated rows :  0\n"
     ]
    }
   ],
   "source": [
    "number_of_dup = len(trips_df[trips_df.duplicated(subset=list(trips_df.columns).remove('TripId')) == True])\n",
    "\n",
    "print('Number of rows in original data:', len(trips_df))\n",
    "print('Number of duplicated rows : ',number_of_dup)"
   ]
  },
  {
   "cell_type": "code",
   "execution_count": 95,
   "id": "2797e12f",
   "metadata": {},
   "outputs": [],
   "source": [
    "# creating a geometry column \n",
    "trips_df['Startlocation'] = list(zip(trips_df.StartLocLat, trips_df.StartLocLon))\n",
    "trips_df['Startlocation'] = trips_df['Startlocation'].apply(Point)\n",
    "\n",
    "trips_df['Endlocation'] = list(zip(trips_df.EndLocLat, trips_df.EndLocLon))\n",
    "trips_df['Endlocation'] = trips_df['Endlocation'].apply(Point)\n",
    "\n",
    "\n",
    "# Coordinate reference system : WGS84\n",
    "crs = {'init': 'epsg:4326'}\n",
    "\n",
    "# Creating a Geographic data frame \n",
    "gdf = gpd.GeoDataFrame(trips_df, crs=crs)"
   ]
  },
  {
   "cell_type": "code",
   "execution_count": 104,
   "id": "26c7f4ef",
   "metadata": {},
   "outputs": [
    {
     "data": {
      "text/html": [
       "<div>\n",
       "<style scoped>\n",
       "    .dataframe tbody tr th:only-of-type {\n",
       "        vertical-align: middle;\n",
       "    }\n",
       "\n",
       "    .dataframe tbody tr th {\n",
       "        vertical-align: top;\n",
       "    }\n",
       "\n",
       "    .dataframe thead th {\n",
       "        text-align: right;\n",
       "    }\n",
       "</style>\n",
       "<table border=\"1\" class=\"dataframe\">\n",
       "  <thead>\n",
       "    <tr style=\"text-align: right;\">\n",
       "      <th></th>\n",
       "      <th>TripId</th>\n",
       "      <th>DeviceId</th>\n",
       "      <th>ProviderId</th>\n",
       "      <th>Mode</th>\n",
       "      <th>StartDate</th>\n",
       "      <th>StartWDay</th>\n",
       "      <th>EndDate</th>\n",
       "      <th>EndWDay</th>\n",
       "      <th>StartLocLat</th>\n",
       "      <th>StartLocLon</th>\n",
       "      <th>...</th>\n",
       "      <th>DestCbg</th>\n",
       "      <th>StartTimezone</th>\n",
       "      <th>EndTimezone</th>\n",
       "      <th>WaypointFreqSec</th>\n",
       "      <th>StartQk</th>\n",
       "      <th>EndQk</th>\n",
       "      <th>Unnamed: 31</th>\n",
       "      <th>Unnamed: 32</th>\n",
       "      <th>Startlocation</th>\n",
       "      <th>Endlocation</th>\n",
       "    </tr>\n",
       "  </thead>\n",
       "  <tbody>\n",
       "    <tr>\n",
       "      <th>0</th>\n",
       "      <td>a939d5d8c9b52b5265161bfa93054f0a</td>\n",
       "      <td>0006da8402c807c4be339cab03f9d498</td>\n",
       "      <td>d07e70efcfab08731a97e7b91be644de</td>\n",
       "      <td>1</td>\n",
       "      <td>2022-05-11T20:19:31.000Z</td>\n",
       "      <td>3</td>\n",
       "      <td>2022-05-11T20:22:52.000Z</td>\n",
       "      <td>3</td>\n",
       "      <td>30.18252</td>\n",
       "      <td>-96.93443</td>\n",
       "      <td>...</td>\n",
       "      <td>NaN</td>\n",
       "      <td>America/Chicago</td>\n",
       "      <td>America/Chicago</td>\n",
       "      <td>NaN</td>\n",
       "      <td>2.313010e+16</td>\n",
       "      <td>2.313010e+16</td>\n",
       "      <td>NaN</td>\n",
       "      <td>NaN</td>\n",
       "      <td>POINT (30.18252 -96.93443)</td>\n",
       "      <td>POINT (30.18015 -96.91383)</td>\n",
       "    </tr>\n",
       "    <tr>\n",
       "      <th>1</th>\n",
       "      <td>88180c2feb14c8520f169e4bda526313</td>\n",
       "      <td>009ef4b15eadd773468cd2bfdff6eb54</td>\n",
       "      <td>74071a673307ca7459bcf75fbd024e09</td>\n",
       "      <td>1</td>\n",
       "      <td>2022-05-14T21:07:54.000Z</td>\n",
       "      <td>6</td>\n",
       "      <td>2022-05-14T21:58:03.000Z</td>\n",
       "      <td>6</td>\n",
       "      <td>38.27969</td>\n",
       "      <td>-104.52873</td>\n",
       "      <td>...</td>\n",
       "      <td>NaN</td>\n",
       "      <td>America/Denver</td>\n",
       "      <td>America/Denver</td>\n",
       "      <td>NaN</td>\n",
       "      <td>2.310120e+16</td>\n",
       "      <td>2.310120e+16</td>\n",
       "      <td>{\\method\\\":\\\"fused\\\"</td>\n",
       "      <td>\\\"aid_type\\\":\\\"AAID\\\"}\"</td>\n",
       "      <td>POINT (38.27969 -104.52873)</td>\n",
       "      <td>POINT (38.34004 -104.67292)</td>\n",
       "    </tr>\n",
       "    <tr>\n",
       "      <th>2</th>\n",
       "      <td>a4d0936eb3b45ff1a5af8885939fbcd5</td>\n",
       "      <td>011dbfd3e177545535328ba48377522f</td>\n",
       "      <td>74071a673307ca7459bcf75fbd024e09</td>\n",
       "      <td>0</td>\n",
       "      <td>2022-05-13T21:40:44.000Z</td>\n",
       "      <td>5</td>\n",
       "      <td>2022-05-13T21:48:42.000Z</td>\n",
       "      <td>5</td>\n",
       "      <td>38.75461</td>\n",
       "      <td>-104.78828</td>\n",
       "      <td>...</td>\n",
       "      <td>NaN</td>\n",
       "      <td>America/Denver</td>\n",
       "      <td>America/Denver</td>\n",
       "      <td>NaN</td>\n",
       "      <td>2.310120e+16</td>\n",
       "      <td>2.310120e+16</td>\n",
       "      <td>{\\method\\\":\\\"fused\\\"</td>\n",
       "      <td>\\\"aid_type\\\":\\\"AAID\\\"}\"</td>\n",
       "      <td>POINT (38.75461 -104.78828)</td>\n",
       "      <td>POINT (38.74819 -104.78828)</td>\n",
       "    </tr>\n",
       "    <tr>\n",
       "      <th>3</th>\n",
       "      <td>a04c70dd5a17f8f54b7a5576951da0c5</td>\n",
       "      <td>014b33b72b76a3ba8cbb621009408974</td>\n",
       "      <td>d07e70efcfab08731a97e7b91be644de</td>\n",
       "      <td>1</td>\n",
       "      <td>2022-05-11T23:37:31.000Z</td>\n",
       "      <td>3</td>\n",
       "      <td>2022-05-11T23:47:49.000Z</td>\n",
       "      <td>3</td>\n",
       "      <td>38.67639</td>\n",
       "      <td>-104.70588</td>\n",
       "      <td>...</td>\n",
       "      <td>NaN</td>\n",
       "      <td>America/Denver</td>\n",
       "      <td>America/Denver</td>\n",
       "      <td>NaN</td>\n",
       "      <td>2.310120e+16</td>\n",
       "      <td>2.310120e+16</td>\n",
       "      <td>NaN</td>\n",
       "      <td>NaN</td>\n",
       "      <td>POINT (38.67639 -104.70588)</td>\n",
       "      <td>POINT (38.73319 -104.77867)</td>\n",
       "    </tr>\n",
       "    <tr>\n",
       "      <th>4</th>\n",
       "      <td>509bba65db0e6495bb35e615f823350c</td>\n",
       "      <td>014ed4fc9ea19b744e0eb3a0b1d72bb1</td>\n",
       "      <td>74071a673307ca7459bcf75fbd024e09</td>\n",
       "      <td>1</td>\n",
       "      <td>2022-05-12T00:14:40.000Z</td>\n",
       "      <td>3</td>\n",
       "      <td>2022-05-12T00:37:38.000Z</td>\n",
       "      <td>3</td>\n",
       "      <td>38.55622</td>\n",
       "      <td>-104.64958</td>\n",
       "      <td>...</td>\n",
       "      <td>NaN</td>\n",
       "      <td>America/Denver</td>\n",
       "      <td>America/Denver</td>\n",
       "      <td>NaN</td>\n",
       "      <td>2.310120e+16</td>\n",
       "      <td>2.310120e+16</td>\n",
       "      <td>{\\method\\\":\\\"gps\\\"</td>\n",
       "      <td>\\\"aid_type\\\":\\\"IDFA\\\"}\"</td>\n",
       "      <td>POINT (38.55622 -104.64958)</td>\n",
       "      <td>POINT (38.2193 -104.6537)</td>\n",
       "    </tr>\n",
       "  </tbody>\n",
       "</table>\n",
       "<p>5 rows × 35 columns</p>\n",
       "</div>"
      ],
      "text/plain": [
       "                             TripId                          DeviceId  \\\n",
       "0  a939d5d8c9b52b5265161bfa93054f0a  0006da8402c807c4be339cab03f9d498   \n",
       "1  88180c2feb14c8520f169e4bda526313  009ef4b15eadd773468cd2bfdff6eb54   \n",
       "2  a4d0936eb3b45ff1a5af8885939fbcd5  011dbfd3e177545535328ba48377522f   \n",
       "3  a04c70dd5a17f8f54b7a5576951da0c5  014b33b72b76a3ba8cbb621009408974   \n",
       "4  509bba65db0e6495bb35e615f823350c  014ed4fc9ea19b744e0eb3a0b1d72bb1   \n",
       "\n",
       "                         ProviderId  Mode                 StartDate  \\\n",
       "0  d07e70efcfab08731a97e7b91be644de     1  2022-05-11T20:19:31.000Z   \n",
       "1  74071a673307ca7459bcf75fbd024e09     1  2022-05-14T21:07:54.000Z   \n",
       "2  74071a673307ca7459bcf75fbd024e09     0  2022-05-13T21:40:44.000Z   \n",
       "3  d07e70efcfab08731a97e7b91be644de     1  2022-05-11T23:37:31.000Z   \n",
       "4  74071a673307ca7459bcf75fbd024e09     1  2022-05-12T00:14:40.000Z   \n",
       "\n",
       "   StartWDay                   EndDate  EndWDay  StartLocLat  StartLocLon  \\\n",
       "0          3  2022-05-11T20:22:52.000Z        3     30.18252    -96.93443   \n",
       "1          6  2022-05-14T21:58:03.000Z        6     38.27969   -104.52873   \n",
       "2          5  2022-05-13T21:48:42.000Z        5     38.75461   -104.78828   \n",
       "3          3  2022-05-11T23:47:49.000Z        3     38.67639   -104.70588   \n",
       "4          3  2022-05-12T00:37:38.000Z        3     38.55622   -104.64958   \n",
       "\n",
       "   ...  DestCbg    StartTimezone      EndTimezone  WaypointFreqSec  \\\n",
       "0  ...      NaN  America/Chicago  America/Chicago              NaN   \n",
       "1  ...      NaN   America/Denver   America/Denver              NaN   \n",
       "2  ...      NaN   America/Denver   America/Denver              NaN   \n",
       "3  ...      NaN   America/Denver   America/Denver              NaN   \n",
       "4  ...      NaN   America/Denver   America/Denver              NaN   \n",
       "\n",
       "        StartQk         EndQk           Unnamed: 31              Unnamed: 32  \\\n",
       "0  2.313010e+16  2.313010e+16                   NaN                      NaN   \n",
       "1  2.310120e+16  2.310120e+16  {\\method\\\":\\\"fused\\\"  \\\"aid_type\\\":\\\"AAID\\\"}\"   \n",
       "2  2.310120e+16  2.310120e+16  {\\method\\\":\\\"fused\\\"  \\\"aid_type\\\":\\\"AAID\\\"}\"   \n",
       "3  2.310120e+16  2.310120e+16                   NaN                      NaN   \n",
       "4  2.310120e+16  2.310120e+16    {\\method\\\":\\\"gps\\\"  \\\"aid_type\\\":\\\"IDFA\\\"}\"   \n",
       "\n",
       "                 Startlocation                  Endlocation  \n",
       "0   POINT (30.18252 -96.93443)   POINT (30.18015 -96.91383)  \n",
       "1  POINT (38.27969 -104.52873)  POINT (38.34004 -104.67292)  \n",
       "2  POINT (38.75461 -104.78828)  POINT (38.74819 -104.78828)  \n",
       "3  POINT (38.67639 -104.70588)  POINT (38.73319 -104.77867)  \n",
       "4  POINT (38.55622 -104.64958)    POINT (38.2193 -104.6537)  \n",
       "\n",
       "[5 rows x 35 columns]"
      ]
     },
     "execution_count": 104,
     "metadata": {},
     "output_type": "execute_result"
    }
   ],
   "source": [
    "gdf.head()"
   ]
  },
  {
   "cell_type": "code",
   "execution_count": 96,
   "id": "7b7ab382",
   "metadata": {},
   "outputs": [],
   "source": [
    "# exclude data whose ProviderType == Fleet\n",
    "gdf = gdf[gdf['ProviderType']==1] "
   ]
  },
  {
   "cell_type": "markdown",
   "id": "0ce82a3f",
   "metadata": {},
   "source": [
    "## Number of Device"
   ]
  },
  {
   "cell_type": "code",
   "execution_count": 97,
   "id": "6e1cc334",
   "metadata": {},
   "outputs": [
    {
     "name": "stdout",
     "output_type": "stream",
     "text": [
      "Number of Device : 68188\n"
     ]
    }
   ],
   "source": [
    "device_number = len(gdf['DeviceId'].unique())\n",
    "print('Number of Device :',device_number)"
   ]
  },
  {
   "cell_type": "markdown",
   "id": "4174ef18",
   "metadata": {},
   "source": [
    "## walk vs. vehicle"
   ]
  },
  {
   "cell_type": "code",
   "execution_count": 90,
   "id": "9ae729bd",
   "metadata": {},
   "outputs": [
    {
     "data": {
      "text/plain": [
       "[Text(0, 0, 'Walk'), Text(1, 0, 'Vehicle'), Text(2, 0, 'Unknown')]"
      ]
     },
     "execution_count": 90,
     "metadata": {},
     "output_type": "execute_result"
    },
    {
     "data": {
      "image/png": "[encoded data removed]",
      "text/plain": [
       "<Figure size 432x288 with 1 Axes>"
      ]
     },
     "metadata": {
      "needs_background": "light"
     },
     "output_type": "display_data"
    }
   ],
   "source": [
    "count_plot = sns.countplot(gdf['Mode'])\n",
    "count_plot.set_xticklabels(['Walk','Vehicle','Unknown']) "
   ]
  },
  {
   "cell_type": "markdown",
   "id": "5499b2e5",
   "metadata": {},
   "source": [
    "## vehicle type"
   ]
  },
  {
   "cell_type": "code",
   "execution_count": 98,
   "id": "b696f133",
   "metadata": {},
   "outputs": [
    {
     "data": {
      "text/plain": [
       "[Text(0, 0, 'Consumer Vehicles')]"
      ]
     },
     "execution_count": 98,
     "metadata": {},
     "output_type": "execute_result"
    },
    {
     "data": {
      "image/png": "[encoded data removed]",
      "text/plain": [
       "<Figure size 432x288 with 1 Axes>"
      ]
     },
     "metadata": {
      "needs_background": "light"
     },
     "output_type": "display_data"
    }
   ],
   "source": [
    "Driving_profile = sns.countplot(gdf['ProviderDrivingProfile'])\n",
    "Driving_profile.set_xticklabels(['Consumer Vehicles']) "
   ]
  },
  {
   "cell_type": "code",
   "execution_count": 99,
   "id": "d83cbdca",
   "metadata": {},
   "outputs": [
    {
     "data": {
      "text/plain": [
       "[Text(0, 0, 'Light Duty Truck')]"
      ]
     },
     "execution_count": 99,
     "metadata": {},
     "output_type": "execute_result"
    },
    {
     "data": {
      "image/png": "[encoded data removed]",
      "text/plain": [
       "<Figure size 432x288 with 1 Axes>"
      ]
     },
     "metadata": {
      "needs_background": "light"
     },
     "output_type": "display_data"
    }
   ],
   "source": [
    "vehicle_weight_count = sns.countplot(gdf['VehicleWeightClass'])\n",
    "vehicle_weight_count.set_xticklabels(['Light Duty Truck']) "
   ]
  },
  {
   "cell_type": "markdown",
   "id": "2d083ae8",
   "metadata": {},
   "source": [
    "## Spatial heatmap of trips with origin on Fort Carson"
   ]
  },
  {
   "cell_type": "code",
   "execution_count": null,
   "id": "78e6490f",
   "metadata": {},
   "outputs": [],
   "source": []
  }
 ],
 "metadata": {
  "kernelspec": {
   "display_name": "Python 3 (ipykernel)",
   "language": "python",
   "name": "python3"
  },
  "language_info": {
   "codemirror_mode": {
    "name": "ipython",
    "version": 3
   },
   "file_extension": ".py",
   "mimetype": "text/x-python",
   "name": "python",
   "nbconvert_exporter": "python",
   "pygments_lexer": "ipython3",
   "version": "3.9.12"
  }
 },
 "nbformat": 4,
 "nbformat_minor": 5
}
